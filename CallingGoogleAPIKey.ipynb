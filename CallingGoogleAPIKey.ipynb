{
  "cells": [
    {
      "cell_type": "code",
      "execution_count": null,
      "metadata": {
        "id": "xwaoneEiLqKT"
      },
      "outputs": [],
      "source": [
        "# Calling Google-API key to communicate with LLM(Gemini)\n",
        "import google.generativeai as genai\n",
        "from google.colab import userdata\n",
        "\n",
        "google_api_key = userdata.get(\"GOOGLE_API_KEY\")\n",
        "genai.configure(api_key=google_api_key)\n",
        "model = genai.GenerativeModel(\"gemini-1.5-flash\")\n",
        "response = model.generate_content(\"what is the current population of Pakistan?\")\n",
        "print(f'Response: {response.text}')\n",
        "\n",
        "# response // to know information about how many numbers of token are using for both prompt and response"
      ]
    }
  ],
  "metadata": {
    "colab": {
      "authorship_tag": "ABX9TyP99kD6a9Mk5UtYWgJb27nP",
      "include_colab_link": true,
      "provenance": []
    },
    "kernelspec": {
      "display_name": "Python 3",
      "name": "python3"
    },
    "language_info": {
      "name": "python"
    }
  },
  "nbformat": 4,
  "nbformat_minor": 0
}
