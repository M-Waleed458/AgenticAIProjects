{
  "nbformat": 4,
  "nbformat_minor": 0,
  "metadata": {
    "colab": {
      "provenance": [],
      "authorship_tag": "ABX9TyP99kD6a9Mk5UtYWgJb27nP",
      "include_colab_link": true
    },
    "kernelspec": {
      "name": "python3",
      "display_name": "Python 3"
    },
    "language_info": {
      "name": "python"
    }
  },
  "cells": [
    {
      "cell_type": "markdown",
      "metadata": {
        "id": "view-in-github",
        "colab_type": "text"
      },
      "source": [
        "<a href=\"https://colab.research.google.com/github/M-Waleed458/AgenticAIProjects/blob/main/CallingGoogleAPIKey.ipynb\" target=\"_parent\"><img src=\"https://colab.research.google.com/assets/colab-badge.svg\" alt=\"Open In Colab\"/></a>"
      ]
    },
    {
      "cell_type": "code",
      "execution_count": null,
      "metadata": {
        "id": "xwaoneEiLqKT"
      },
      "outputs": [],
      "source": [
        "# Calling Google-API key to communicate with LLM(Gemini)\n",
        "import google.generativeai as genai\n",
        "from google.colab import userdata\n",
        "\n",
        "google_api_key = userdata.get(\"GOOGLE_API_KEY\")\n",
        "genai.configure(api_key=google_api_key)\n",
        "model = genai.GenerativeModel(\"gemini-1.5-flash\")\n",
        "response = model.generate_content(\"what is the current population of Pakistan?\")\n",
        "print(response.text)\n",
        "# response // to know information about how many numbers of token are using for both prompt and response"
      ]
    }
  ]
}